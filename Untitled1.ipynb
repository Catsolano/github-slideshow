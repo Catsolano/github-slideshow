{
  "nbformat": 4,
  "nbformat_minor": 0,
  "metadata": {
    "colab": {
      "name": "Untitled1.ipynb",
      "provenance": [],
      "collapsed_sections": [],
      "toc_visible": true
    },
    "kernelspec": {
      "name": "python3",
      "display_name": "Python 3"
    }
  },
  "cells": [
    {
      "cell_type": "markdown",
      "metadata": {
        "id": "4ve35vt5-mz-",
        "colab_type": "text"
      },
      "source": [
        "# Carga inalambrica\n",
        "\n",
        "La carga inalambrica, tambien conocida como tecnología Qi,  es aquella en la cual se busca la transferencia de energía mediante un campo electromagnético. El acoplamiento inductivo resonante es el cual describe la transmisión de energía eléctrica inalámbrica cercana entre dos bobinas acopladas magnéticamente y que resuenan en la misma frecuencia.\n",
        "\n",
        "La tecnología Qi está constituida por un sistema de dos bobinas, una Transmisora (Tx) y una receptora(Rx), con principio de acoplamiento resonante.\n",
        "\n",
        "## Acoplamiento inductivo resonante\n",
        "\n",
        "### Inductancia mutua:\n",
        " Es la capacidad d eun inductor de producir caida de tensión en un inductor cercano, debido al flujo magnético que enlaza el primer inductor y el número de vueltas del conductor del segundo inductor donde su unidad es el Henry (H) .\n",
        "\n",
        "La fem inducida en una bobina se describe mediante la ley de Faraday y su dirección SIEMPRE es opuesta al cambio del campo magnetico producido en ella por la bobina acoplada (Ley de Lenz).\n",
        "\n",
        "![Circuito](air.png)\n"
      ]
    },
    {
      "cell_type": "markdown",
      "metadata": {
        "id": "0Z6wFsndSjV5",
        "colab_type": "text"
      },
      "source": [
        "![Circuito 1](Air.png)"
      ]
    },
    {
      "cell_type": "code",
      "metadata": {
        "id": "kN-4nVo6-inL",
        "colab_type": "code",
        "colab": {}
      },
      "source": [
        ""
      ],
      "execution_count": null,
      "outputs": []
    }
  ]
}